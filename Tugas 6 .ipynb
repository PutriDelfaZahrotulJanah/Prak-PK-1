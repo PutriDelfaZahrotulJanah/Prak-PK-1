{
 "cells": [
  {
   "cell_type": "markdown",
   "id": "fcfb7485-c750-43a4-bd80-885c1b54b944",
   "metadata": {},
   "source": [
    "# 1. Berapakah nilai dari $\\sqrt{144}$"
   ]
  },
  {
   "cell_type": "code",
   "execution_count": 1,
   "id": "9e076103-cd2f-4227-b705-12560dd86fc4",
   "metadata": {},
   "outputs": [
    {
     "data": {
      "text/latex": [
       "$\\displaystyle 12$"
      ],
      "text/plain": [
       "12"
      ]
     },
     "execution_count": 1,
     "metadata": {},
     "output_type": "execute_result"
    }
   ],
   "source": [
    "import sympy\n",
    "sympy.sqrt(144)"
   ]
  },
  {
   "cell_type": "markdown",
   "id": "adf13772-8f4d-4a37-9a28-98b23d2df0f7",
   "metadata": {},
   "source": [
    "# 2. Berapakah nilai turunan dari  sin 2x +  cos 10x"
   ]
  },
  {
   "cell_type": "code",
   "execution_count": 2,
   "id": "ceae56be-ab6b-4dbe-aca8-df1150cf0293",
   "metadata": {},
   "outputs": [
    {
     "data": {
      "text/latex": [
       "$\\displaystyle - 10 \\sin{\\left(10 x \\right)} + 2 \\cos{\\left(2 x \\right)}$"
      ],
      "text/plain": [
       "-10*sin(10*x) + 2*cos(2*x)"
      ]
     },
     "execution_count": 2,
     "metadata": {},
     "output_type": "execute_result"
    }
   ],
   "source": [
    "import sympy\n",
    "from sympy import *\n",
    "x = symbols('x')\n",
    "diff (sin (2*x) + cos (10*x),x)"
   ]
  },
  {
   "cell_type": "markdown",
   "id": "6e4c2f12-1866-4c5f-81b8-6b5763b84a92",
   "metadata": {},
   "source": [
    "# 3. Berapakah nilai dari $((3x-5)^2)-(3x^2+6y-7)$"
   ]
  },
  {
   "cell_type": "code",
   "execution_count": 3,
   "id": "67087aa8-4818-4d6c-8a5a-d882a12d5921",
   "metadata": {},
   "outputs": [
    {
     "data": {
      "text/latex": [
       "$\\displaystyle 6 x^{2} - 30 x - 6 y + 32$"
      ],
      "text/plain": [
       "6*x**2 - 30*x - 6*y + 32"
      ]
     },
     "execution_count": 3,
     "metadata": {},
     "output_type": "execute_result"
    }
   ],
   "source": [
    "import sympy\n",
    "from sympy import *\n",
    "x, y = symbols('x y')\n",
    "a = (3*x-5)**2\n",
    "b = 3*x**2 + 6*y - 7\n",
    "simplify(a - b)"
   ]
  },
  {
   "cell_type": "markdown",
   "id": "23e8b376-b066-4f5f-bb66-f13f3ab606ac",
   "metadata": {},
   "source": [
    "# 4. Berapakah nilai dari $\\int 6x^2+7x-5$"
   ]
  },
  {
   "cell_type": "code",
   "execution_count": 4,
   "id": "75f0fb71-ea31-4c5a-bff6-5e19850676a4",
   "metadata": {},
   "outputs": [
    {
     "data": {
      "text/latex": [
       "$\\displaystyle 2 x^{3} + \\frac{7 x^{2}}{2} - 5 x$"
      ],
      "text/plain": [
       "2*x**3 + 7*x**2/2 - 5*x"
      ]
     },
     "execution_count": 4,
     "metadata": {},
     "output_type": "execute_result"
    }
   ],
   "source": [
    "import sympy\n",
    "from sympy import *\n",
    "x = symbols('x')\n",
    "integrate (6*x**2+7*x-5,x)"
   ]
  },
  {
   "cell_type": "markdown",
   "id": "bf6427b3-943e-4b0f-aafc-a98eeaffd3f6",
   "metadata": {},
   "source": [
    "# 5. Berapakah nilai $\\lim\\limits_{x \\to \\ 1}\\frac {sin \\ 6x}{2x}$ "
   ]
  },
  {
   "cell_type": "code",
   "execution_count": null,
   "id": "81fc4890-2d4b-4c62-b68d-3779783d86cf",
   "metadata": {},
   "outputs": [],
   "source": []
  }
 ],
 "metadata": {
  "kernelspec": {
   "display_name": "Python 3 (ipykernel)",
   "language": "python",
   "name": "python3"
  },
  "language_info": {
   "codemirror_mode": {
    "name": "ipython",
    "version": 3
   },
   "file_extension": ".py",
   "mimetype": "text/x-python",
   "name": "python",
   "nbconvert_exporter": "python",
   "pygments_lexer": "ipython3",
   "version": "3.10.2"
  }
 },
 "nbformat": 4,
 "nbformat_minor": 5
}
