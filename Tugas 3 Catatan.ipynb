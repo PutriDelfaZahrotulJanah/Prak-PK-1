{
 "cells": [
  {
   "cell_type": "markdown",
   "id": "bc7ec135-3052-4392-b99e-9334528c723a",
   "metadata": {},
   "source": [
    " # Control Flow"
   ]
  },
  {
   "cell_type": "markdown",
   "id": "bf7f0347-67e3-4201-94d2-7a39db2fd606",
   "metadata": {},
   "source": [
    "### Ekspresi Boolean\n",
    "Ekspresi Boolean adalah ekspresi yang bernilai true atau false yang digunakan untuk membandingkan dua nilai atau variabel (operand)."
   ]
  },
  {
   "cell_type": "code",
   "execution_count": 1,
   "id": "ccfbe97f-d2b6-4348-9434-12147120075b",
   "metadata": {},
   "outputs": [
    {
     "data": {
      "text/plain": [
       "True"
      ]
     },
     "execution_count": 1,
     "metadata": {},
     "output_type": "execute_result"
    }
   ],
   "source": [
    "5 == 5"
   ]
  },
  {
   "cell_type": "code",
   "execution_count": 2,
   "id": "b5396063-a63b-479a-90d0-159032c007fa",
   "metadata": {},
   "outputs": [
    {
     "data": {
      "text/plain": [
       "False"
      ]
     },
     "execution_count": 2,
     "metadata": {},
     "output_type": "execute_result"
    }
   ],
   "source": [
    "5 == 6"
   ]
  },
  {
   "cell_type": "markdown",
   "id": "cabd5dc6-4c79-4032-b468-12dfb1c3840f",
   "metadata": {},
   "source": [
    "### Operator Relasi\n",
    "x == y bernilai True jika x sama dengan y\\\n",
    "x != y bernilai True jika tidak sama dengan y\\\n",
    "x > y  bernilai True jika x lebih dari y\\\n",
    "x < y  bernilai True jika x kurang dari y\\\n",
    "x >= y bernilai True jika x lebih dari atau sama dengan y\\\n",
    "x <= y bernilai True jika x kurang dari atau sama dengan y"
   ]
  },
  {
   "cell_type": "markdown",
   "id": "5950df49-72e6-47c4-87cc-69229d4f2587",
   "metadata": {},
   "source": [
    "### Logical Operators\n",
    "and  -> Melakukan pengecekan kondisi yang harus bernilai True untuk kedua operand kanan dan kiri secara bersamaan\\\n",
    "or   -> Melakukan pengecekan kondisi yang dapat bernilai True pada salah satu atau kedua operand kanan dan kiri\\\n",
    "not  -> Melakukan pengecekan kondisi NOT, atau membalikkan kondisi. Contoh NOT(A AND B)"
   ]
  },
  {
   "cell_type": "code",
   "execution_count": 4,
   "id": "6a514160-cc98-48bc-b309-9def0de7b8b5",
   "metadata": {},
   "outputs": [],
   "source": [
    "def kali(a,b):\n",
    "    c=a*b\n",
    "    return c\n"
   ]
  },
  {
   "cell_type": "code",
   "execution_count": 5,
   "id": "b9570e65-477e-4ff0-9c42-61c701df908d",
   "metadata": {},
   "outputs": [],
   "source": [
    "def tulis(s):\n",
    "    print (s)"
   ]
  },
  {
   "cell_type": "code",
   "execution_count": 6,
   "id": "65f448ab-8f04-49ee-899b-182c10f83ad2",
   "metadata": {},
   "outputs": [
    {
     "data": {
      "text/plain": [
       "50"
      ]
     },
     "execution_count": 6,
     "metadata": {},
     "output_type": "execute_result"
    }
   ],
   "source": [
    "z=kali(10,5)\n",
    "z"
   ]
  },
  {
   "cell_type": "code",
   "execution_count": 7,
   "id": "3e624190-af64-430d-8219-de0eaad2a619",
   "metadata": {},
   "outputs": [
    {
     "name": "stdout",
     "output_type": "stream",
     "text": [
      "Pemrograman Komputer 1 dengan Python\n"
     ]
    }
   ],
   "source": [
    "tulis('Pemrograman Komputer 1 dengan Python')"
   ]
  },
  {
   "cell_type": "code",
   "execution_count": 8,
   "id": "ba60e6f8-9aee-40c7-9a67-50e731d1cf83",
   "metadata": {},
   "outputs": [
    {
     "name": "stdout",
     "output_type": "stream",
     "text": [
      "50\n"
     ]
    }
   ],
   "source": [
    "tulis(z)"
   ]
  },
  {
   "cell_type": "code",
   "execution_count": 9,
   "id": "30e181d8-1e42-44a1-8c87-35e551d78fa0",
   "metadata": {},
   "outputs": [
    {
     "name": "stdout",
     "output_type": "stream",
     "text": [
      "Malang\n",
      "Malang\n"
     ]
    }
   ],
   "source": [
    "kota = 'Malang'\n",
    "\n",
    "def halo():\n",
    "    print(kota)\n",
    "    \n",
    "print(kota)\n",
    "halo()"
   ]
  },
  {
   "cell_type": "code",
   "execution_count": 10,
   "id": "0dbb44f2-afde-4974-b40c-a717735d211c",
   "metadata": {},
   "outputs": [
    {
     "name": "stdout",
     "output_type": "stream",
     "text": [
      "Malang\n",
      "\n"
     ]
    }
   ],
   "source": [
    "def halo():\n",
    "    kota = ''\n",
    "    print(kota)\n",
    "    \n",
    "print(kota)\n",
    "halo()\n",
    "     "
   ]
  },
  {
   "cell_type": "markdown",
   "id": "08e10bd6-90e0-4710-94c1-bb99896b685b",
   "metadata": {},
   "source": [
    "# Percobaan Conditional if #"
   ]
  },
  {
   "cell_type": "code",
   "execution_count": 13,
   "id": "d9dfd314-df3f-47ef-953a-2d04e426195a",
   "metadata": {},
   "outputs": [
    {
     "name": "stdin",
     "output_type": "stream",
     "text": [
      "Masukkan nilai anda:  79\n"
     ]
    },
    {
     "name": "stdout",
     "output_type": "stream",
     "text": [
      "Anda lulus ujian! SELAMAT!\n"
     ]
    }
   ],
   "source": [
    "nilai = input(\"Masukkan nilai anda: \")\n",
    "if int(nilai) >= 70:\n",
    "    print(\"Anda lulus ujian! SELAMAT!\")"
   ]
  },
  {
   "cell_type": "code",
   "execution_count": null,
   "id": "995d618f-04a7-4e2e-aedb-11f73cf8125c",
   "metadata": {},
   "outputs": [],
   "source": [
    "nilai = input(\"Masukkan nilai anda: \")\n",
    "if int(nilai) >= 70:\n",
    "    print(\"Anda lulus ujian! SELAMAT!\")\n",
    "else:\n",
    "    print(\"Anda belum lulus ujian!\")"
   ]
  }
 ],
 "metadata": {
  "kernelspec": {
   "display_name": "Python 3 (ipykernel)",
   "language": "python",
   "name": "python3"
  },
  "language_info": {
   "codemirror_mode": {
    "name": "ipython",
    "version": 3
   },
   "file_extension": ".py",
   "mimetype": "text/x-python",
   "name": "python",
   "nbconvert_exporter": "python",
   "pygments_lexer": "ipython3",
   "version": "3.10.2"
  }
 },
 "nbformat": 4,
 "nbformat_minor": 5
}
