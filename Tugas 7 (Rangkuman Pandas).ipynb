{
 "cells": [
  {
   "cell_type": "markdown",
   "id": "8ae35129-0e21-483e-843b-803a138f4e89",
   "metadata": {},
   "source": [
    "NAMA: PUTRI DELFA ZAHROTUL JANAH\\\n",
    "NIM: 200601110014\\\n",
    "RANGKUMAN PANDAS "
   ]
  },
  {
   "cell_type": "markdown",
   "id": "f616e50e-6e71-410d-9ea0-5c8e3eeedc35",
   "metadata": {},
   "source": [
    "# Mengimpor Pandas"
   ]
  },
  {
   "cell_type": "code",
   "execution_count": 1,
   "id": "6041bc74-c9ec-4dcb-b6f3-b0912d6a475f",
   "metadata": {},
   "outputs": [],
   "source": [
    "import pandas as pd"
   ]
  },
  {
   "cell_type": "markdown",
   "id": "25f19c39-2a20-4371-9022-7c9fd1960509",
   "metadata": {},
   "source": [
    "# Import .txt"
   ]
  },
  {
   "cell_type": "code",
   "execution_count": 2,
   "id": "5bf5fbeb-0102-4576-8261-76b25d45608b",
   "metadata": {},
   "outputs": [
    {
     "name": "stdout",
     "output_type": "stream",
     "text": [
      "   A\\tB\n",
      "0  1\\t2\n",
      "1  4\\t3\n",
      "2  4\\t2\n"
     ]
    }
   ],
   "source": [
    "data1=pd.read_csv(\"data.txt\")\n",
    "print(data1)"
   ]
  },
  {
   "cell_type": "code",
   "execution_count": 3,
   "id": "c5eab39f-7a7d-4cdb-b4b8-027a85bb7a71",
   "metadata": {},
   "outputs": [
    {
     "name": "stdout",
     "output_type": "stream",
     "text": [
      "   A  B\n",
      "0  1  2\n",
      "1  4  3\n",
      "2  4  2\n"
     ]
    }
   ],
   "source": [
    "data2=pd.read_csv(\"data.txt\", delimiter=\"\\t\")\n",
    "print(data2)"
   ]
  },
  {
   "cell_type": "markdown",
   "id": "f893545b-225c-4439-9546-1a3336ed3dad",
   "metadata": {},
   "source": [
    "# Import .csv"
   ]
  },
  {
   "cell_type": "code",
   "execution_count": 4,
   "id": "2cb33413-aa2f-4c82-a07e-e690b639467d",
   "metadata": {},
   "outputs": [
    {
     "name": "stdout",
     "output_type": "stream",
     "text": [
      "   A\\tB\n",
      "0  1\\t2\n",
      "1  4\\t3\n",
      "2  4\\t2\n"
     ]
    }
   ],
   "source": [
    "data3=pd.read_csv(\"data.txt\")\n",
    "print(data3)"
   ]
  },
  {
   "cell_type": "code",
   "execution_count": 5,
   "id": "9c5ed45b-c2fb-4da3-8cf6-db04bd2ba141",
   "metadata": {},
   "outputs": [
    {
     "name": "stdout",
     "output_type": "stream",
     "text": [
      "   A  B\n",
      "0  1  2\n",
      "1  4  3\n",
      "2  4  2\n"
     ]
    }
   ],
   "source": [
    "data4=pd.read_csv(\"data.txt\", delimiter=\"\\s+\")\n",
    "print(data4)"
   ]
  },
  {
   "cell_type": "markdown",
   "id": "8bd14677-f790-4b46-ba47-4e825022166a",
   "metadata": {},
   "source": [
    "# Import .xlsx"
   ]
  },
  {
   "cell_type": "code",
   "execution_count": 6,
   "id": "3b7ba75f-3c9f-4b32-9f6d-c7cbe608f227",
   "metadata": {},
   "outputs": [
    {
     "name": "stdout",
     "output_type": "stream",
     "text": [
      "   A  B\n",
      "0  1  2\n",
      "1  4  3\n",
      "2  4  2\n"
     ]
    }
   ],
   "source": [
    "data5=pd.read_excel('data.xlsx')\n",
    "print(data5)"
   ]
  },
  {
   "cell_type": "markdown",
   "id": "29551134-c04d-4e3e-a2d5-3fb776b9a593",
   "metadata": {},
   "source": [
    "# Melihat Tabel"
   ]
  },
  {
   "cell_type": "code",
   "execution_count": 5,
   "id": "34e18a02-36c7-4cde-a12c-2faca165c767",
   "metadata": {},
   "outputs": [
    {
     "name": "stdout",
     "output_type": "stream",
     "text": [
      "   A  B\n",
      "0  1  2\n",
      "1  4  3\n",
      "2  4  2\n"
     ]
    },
    {
     "data": {
      "text/html": [
       "<div>\n",
       "<style scoped>\n",
       "    .dataframe tbody tr th:only-of-type {\n",
       "        vertical-align: middle;\n",
       "    }\n",
       "\n",
       "    .dataframe tbody tr th {\n",
       "        vertical-align: top;\n",
       "    }\n",
       "\n",
       "    .dataframe thead th {\n",
       "        text-align: right;\n",
       "    }\n",
       "</style>\n",
       "<table border=\"1\" class=\"dataframe\">\n",
       "  <thead>\n",
       "    <tr style=\"text-align: right;\">\n",
       "      <th></th>\n",
       "      <th>A</th>\n",
       "      <th>B</th>\n",
       "    </tr>\n",
       "  </thead>\n",
       "  <tbody>\n",
       "    <tr>\n",
       "      <th>0</th>\n",
       "      <td>1</td>\n",
       "      <td>2</td>\n",
       "    </tr>\n",
       "    <tr>\n",
       "      <th>1</th>\n",
       "      <td>4</td>\n",
       "      <td>3</td>\n",
       "    </tr>\n",
       "    <tr>\n",
       "      <th>2</th>\n",
       "      <td>4</td>\n",
       "      <td>2</td>\n",
       "    </tr>\n",
       "  </tbody>\n",
       "</table>\n",
       "</div>"
      ],
      "text/plain": [
       "   A  B\n",
       "0  1  2\n",
       "1  4  3\n",
       "2  4  2"
      ]
     },
     "execution_count": 5,
     "metadata": {},
     "output_type": "execute_result"
    }
   ],
   "source": [
    "#semua\n",
    "data2=pd.read_csv(\"data.txt\", delimiter=\"\\t\")\n",
    "print(data2)\n",
    "data2"
   ]
  },
  {
   "cell_type": "code",
   "execution_count": 6,
   "id": "99f89b4f-8ae8-43a4-b207-9256d9c1cd6a",
   "metadata": {},
   "outputs": [
    {
     "data": {
      "text/html": [
       "<div>\n",
       "<style scoped>\n",
       "    .dataframe tbody tr th:only-of-type {\n",
       "        vertical-align: middle;\n",
       "    }\n",
       "\n",
       "    .dataframe tbody tr th {\n",
       "        vertical-align: top;\n",
       "    }\n",
       "\n",
       "    .dataframe thead th {\n",
       "        text-align: right;\n",
       "    }\n",
       "</style>\n",
       "<table border=\"1\" class=\"dataframe\">\n",
       "  <thead>\n",
       "    <tr style=\"text-align: right;\">\n",
       "      <th></th>\n",
       "      <th>A</th>\n",
       "      <th>B</th>\n",
       "    </tr>\n",
       "  </thead>\n",
       "  <tbody>\n",
       "    <tr>\n",
       "      <th>0</th>\n",
       "      <td>1</td>\n",
       "      <td>2</td>\n",
       "    </tr>\n",
       "    <tr>\n",
       "      <th>1</th>\n",
       "      <td>4</td>\n",
       "      <td>3</td>\n",
       "    </tr>\n",
       "    <tr>\n",
       "      <th>2</th>\n",
       "      <td>4</td>\n",
       "      <td>2</td>\n",
       "    </tr>\n",
       "  </tbody>\n",
       "</table>\n",
       "</div>"
      ],
      "text/plain": [
       "   A  B\n",
       "0  1  2\n",
       "1  4  3\n",
       "2  4  2"
      ]
     },
     "execution_count": 6,
     "metadata": {},
     "output_type": "execute_result"
    }
   ],
   "source": [
    "#sebagian yang diatas (karena datanya sedikit maka yang tampil semua, silahkan coba dengan data yang lebih banyak lagi sendiri)\n",
    "data2.head()"
   ]
  },
  {
   "cell_type": "markdown",
   "id": "9c17b786-ee7a-434a-9b2b-f6ab7c052f05",
   "metadata": {},
   "source": [
    "# Membuat Dataframe sendiri"
   ]
  },
  {
   "cell_type": "code",
   "execution_count": 7,
   "id": "ce218e2c-cd2f-48ee-a1cf-0d9a31e6cecd",
   "metadata": {},
   "outputs": [
    {
     "name": "stdout",
     "output_type": "stream",
     "text": [
      "Empty DataFrame\n",
      "Columns: []\n",
      "Index: []\n"
     ]
    }
   ],
   "source": [
    "df = pd.DataFrame()\n",
    "print(df)"
   ]
  },
  {
   "cell_type": "code",
   "execution_count": 8,
   "id": "23a5e936-1276-455c-b2e5-505cd6846798",
   "metadata": {},
   "outputs": [
    {
     "name": "stdout",
     "output_type": "stream",
     "text": [
      "   0\n",
      "0  1\n",
      "1  2\n",
      "2  3\n",
      "3  4\n",
      "4  5\n"
     ]
    }
   ],
   "source": [
    "data = [1,2,3,4,5]\n",
    "df1 = pd.DataFrame(data)\n",
    "print(df1)"
   ]
  },
  {
   "cell_type": "code",
   "execution_count": 9,
   "id": "d8781749-b10b-469d-bf0c-fa239fad58e6",
   "metadata": {},
   "outputs": [
    {
     "name": "stdout",
     "output_type": "stream",
     "text": [
      "       Nama  Usia\n",
      "0  Purwanto    32\n",
      "1   Purnomo    43\n",
      "2     Purwo    55\n"
     ]
    }
   ],
   "source": [
    "data = [['Purwanto',32],['Purnomo',43],['Purwo',55]]\n",
    "df2 = pd.DataFrame(data,columns=['Nama','Usia'])\n",
    "print(df2)"
   ]
  },
  {
   "cell_type": "code",
   "execution_count": 10,
   "id": "3a0707d2-06e6-435f-bb41-228cea69fc40",
   "metadata": {},
   "outputs": [],
   "source": [
    "import pandas as pd\n",
    "import numpy as np"
   ]
  },
  {
   "cell_type": "markdown",
   "id": "63851cbd-572f-47e1-8f53-f3fbfb822cde",
   "metadata": {},
   "source": [
    "# Memanggil data tertentu pada dataframe"
   ]
  },
  {
   "cell_type": "code",
   "execution_count": 11,
   "id": "6db88047-d5cc-4cb1-9a3e-8f02f593979c",
   "metadata": {},
   "outputs": [
    {
     "name": "stdout",
     "output_type": "stream",
     "text": [
      "       Nama  Usia\n",
      "0  Purwanto    32\n",
      "1   Purnomo    43\n",
      "2     Purwo    55\n"
     ]
    }
   ],
   "source": [
    "data = [['Purwanto',32],['Purnomo',43],['Purwo',55]]\n",
    "df2 = pd.DataFrame(data,columns=['Nama','Usia'])\n",
    "print(df2)"
   ]
  },
  {
   "cell_type": "code",
   "execution_count": 12,
   "id": "8fcf8d17-4722-475f-9055-1e973f2d9119",
   "metadata": {},
   "outputs": [
    {
     "data": {
      "text/plain": [
       "0    Purwanto\n",
       "1     Purnomo\n",
       "2       Purwo\n",
       "Name: Nama, dtype: object"
      ]
     },
     "execution_count": 12,
     "metadata": {},
     "output_type": "execute_result"
    }
   ],
   "source": [
    "df2[\"Nama\"]"
   ]
  },
  {
   "cell_type": "code",
   "execution_count": 13,
   "id": "3a5b14d5-5414-44f1-b868-16fb62f29783",
   "metadata": {},
   "outputs": [
    {
     "data": {
      "text/plain": [
       "0    32\n",
       "1    43\n",
       "2    55\n",
       "Name: Usia, dtype: int64"
      ]
     },
     "execution_count": 13,
     "metadata": {},
     "output_type": "execute_result"
    }
   ],
   "source": [
    "df2[\"Usia\"]"
   ]
  },
  {
   "cell_type": "code",
   "execution_count": 14,
   "id": "93d511cd-b8d6-4a15-a90e-13d6574bce02",
   "metadata": {},
   "outputs": [
    {
     "data": {
      "text/plain": [
       "'Purwanto'"
      ]
     },
     "execution_count": 14,
     "metadata": {},
     "output_type": "execute_result"
    }
   ],
   "source": [
    "df2[\"Nama\"][0]"
   ]
  },
  {
   "cell_type": "code",
   "execution_count": 15,
   "id": "f5cd3666-4b1d-4df9-aba1-5fb53a6531a5",
   "metadata": {},
   "outputs": [
    {
     "data": {
      "text/plain": [
       "'Purwanto'"
      ]
     },
     "execution_count": 15,
     "metadata": {},
     "output_type": "execute_result"
    }
   ],
   "source": [
    "df2.iloc[0][0]"
   ]
  },
  {
   "cell_type": "code",
   "execution_count": 16,
   "id": "722fd063-59cd-4c77-89f3-6a56e806a209",
   "metadata": {},
   "outputs": [
    {
     "data": {
      "text/plain": [
       "'Purwanto'"
      ]
     },
     "execution_count": 16,
     "metadata": {},
     "output_type": "execute_result"
    }
   ],
   "source": [
    "df2.loc[0][\"Nama\"]"
   ]
  },
  {
   "cell_type": "code",
   "execution_count": 17,
   "id": "2f1211ab-fea8-41bb-9fdf-7770f1c1e61f",
   "metadata": {},
   "outputs": [
    {
     "data": {
      "text/plain": [
       "'Purwanto'"
      ]
     },
     "execution_count": 17,
     "metadata": {},
     "output_type": "execute_result"
    }
   ],
   "source": [
    "df2.at[0,\"Nama\"]"
   ]
  },
  {
   "cell_type": "code",
   "execution_count": 18,
   "id": "2b556dea-64f8-4a57-846d-4e8a6fc15fbe",
   "metadata": {},
   "outputs": [
    {
     "data": {
      "text/plain": [
       "'Purwanto'"
      ]
     },
     "execution_count": 18,
     "metadata": {},
     "output_type": "execute_result"
    }
   ],
   "source": [
    "df2.iat[0,0]"
   ]
  },
  {
   "cell_type": "code",
   "execution_count": 19,
   "id": "f0f76bd6-a9a3-4e91-a5fd-34543bc915a8",
   "metadata": {},
   "outputs": [
    {
     "data": {
      "text/plain": [
       "Nama    Purwanto\n",
       "Usia          32\n",
       "Name: 0, dtype: object"
      ]
     },
     "execution_count": 19,
     "metadata": {},
     "output_type": "execute_result"
    }
   ],
   "source": [
    "df2.iloc[0]"
   ]
  },
  {
   "cell_type": "code",
   "execution_count": 20,
   "id": "f2de57f4-a7f4-452f-bc99-eaae94125181",
   "metadata": {},
   "outputs": [
    {
     "data": {
      "text/plain": [
       "0    Purwanto\n",
       "1     Purnomo\n",
       "2       Purwo\n",
       "Name: Nama, dtype: object"
      ]
     },
     "execution_count": 20,
     "metadata": {},
     "output_type": "execute_result"
    }
   ],
   "source": [
    "df2.loc[:,'Nama']"
   ]
  },
  {
   "cell_type": "markdown",
   "id": "57c4096c-f59d-4536-896b-c414f9b4e741",
   "metadata": {},
   "source": [
    "# Set Index"
   ]
  },
  {
   "cell_type": "code",
   "execution_count": 21,
   "id": "8e541053-67e5-4a99-aa82-73ec19ba57e3",
   "metadata": {},
   "outputs": [
    {
     "data": {
      "text/html": [
       "<div>\n",
       "<style scoped>\n",
       "    .dataframe tbody tr th:only-of-type {\n",
       "        vertical-align: middle;\n",
       "    }\n",
       "\n",
       "    .dataframe tbody tr th {\n",
       "        vertical-align: top;\n",
       "    }\n",
       "\n",
       "    .dataframe thead th {\n",
       "        text-align: right;\n",
       "    }\n",
       "</style>\n",
       "<table border=\"1\" class=\"dataframe\">\n",
       "  <thead>\n",
       "    <tr style=\"text-align: right;\">\n",
       "      <th></th>\n",
       "      <th>Nama</th>\n",
       "      <th>Usia</th>\n",
       "    </tr>\n",
       "  </thead>\n",
       "  <tbody>\n",
       "    <tr>\n",
       "      <th>0</th>\n",
       "      <td>Purwanto</td>\n",
       "      <td>32</td>\n",
       "    </tr>\n",
       "    <tr>\n",
       "      <th>1</th>\n",
       "      <td>Purnomo</td>\n",
       "      <td>43</td>\n",
       "    </tr>\n",
       "    <tr>\n",
       "      <th>2</th>\n",
       "      <td>Purwo</td>\n",
       "      <td>55</td>\n",
       "    </tr>\n",
       "  </tbody>\n",
       "</table>\n",
       "</div>"
      ],
      "text/plain": [
       "       Nama  Usia\n",
       "0  Purwanto    32\n",
       "1   Purnomo    43\n",
       "2     Purwo    55"
      ]
     },
     "execution_count": 21,
     "metadata": {},
     "output_type": "execute_result"
    }
   ],
   "source": [
    "df3 = pd.DataFrame([['Purwanto',32],['Purnomo',43],['Purwo',55]],columns=['Nama','Usia'])\n",
    "df3"
   ]
  },
  {
   "cell_type": "code",
   "execution_count": 22,
   "id": "d560fd32-095e-48a8-a0d7-e0c2f6d3eb1b",
   "metadata": {},
   "outputs": [
    {
     "data": {
      "text/html": [
       "<div>\n",
       "<style scoped>\n",
       "    .dataframe tbody tr th:only-of-type {\n",
       "        vertical-align: middle;\n",
       "    }\n",
       "\n",
       "    .dataframe tbody tr th {\n",
       "        vertical-align: top;\n",
       "    }\n",
       "\n",
       "    .dataframe thead th {\n",
       "        text-align: right;\n",
       "    }\n",
       "</style>\n",
       "<table border=\"1\" class=\"dataframe\">\n",
       "  <thead>\n",
       "    <tr style=\"text-align: right;\">\n",
       "      <th></th>\n",
       "      <th>Usia</th>\n",
       "    </tr>\n",
       "    <tr>\n",
       "      <th>Nama</th>\n",
       "      <th></th>\n",
       "    </tr>\n",
       "  </thead>\n",
       "  <tbody>\n",
       "    <tr>\n",
       "      <th>Purwanto</th>\n",
       "      <td>32</td>\n",
       "    </tr>\n",
       "    <tr>\n",
       "      <th>Purnomo</th>\n",
       "      <td>43</td>\n",
       "    </tr>\n",
       "    <tr>\n",
       "      <th>Purwo</th>\n",
       "      <td>55</td>\n",
       "    </tr>\n",
       "  </tbody>\n",
       "</table>\n",
       "</div>"
      ],
      "text/plain": [
       "          Usia\n",
       "Nama          \n",
       "Purwanto    32\n",
       "Purnomo     43\n",
       "Purwo       55"
      ]
     },
     "execution_count": 22,
     "metadata": {},
     "output_type": "execute_result"
    }
   ],
   "source": [
    "df3.set_index(\"Nama\")"
   ]
  },
  {
   "cell_type": "markdown",
   "id": "6c277393-e001-46c5-8f5f-697fa44f6b9f",
   "metadata": {},
   "source": [
    "# Pemanggilan Baris"
   ]
  },
  {
   "cell_type": "code",
   "execution_count": 23,
   "id": "cefe9e93-050d-42ac-8f3c-3857d1baec07",
   "metadata": {},
   "outputs": [
    {
     "data": {
      "text/html": [
       "<div>\n",
       "<style scoped>\n",
       "    .dataframe tbody tr th:only-of-type {\n",
       "        vertical-align: middle;\n",
       "    }\n",
       "\n",
       "    .dataframe tbody tr th {\n",
       "        vertical-align: top;\n",
       "    }\n",
       "\n",
       "    .dataframe thead th {\n",
       "        text-align: right;\n",
       "    }\n",
       "</style>\n",
       "<table border=\"1\" class=\"dataframe\">\n",
       "  <thead>\n",
       "    <tr style=\"text-align: right;\">\n",
       "      <th></th>\n",
       "      <th>48</th>\n",
       "      <th>49</th>\n",
       "      <th>50</th>\n",
       "    </tr>\n",
       "  </thead>\n",
       "  <tbody>\n",
       "    <tr>\n",
       "      <th>2</th>\n",
       "      <td>1</td>\n",
       "      <td>2</td>\n",
       "      <td>3</td>\n",
       "    </tr>\n",
       "    <tr>\n",
       "      <th>A</th>\n",
       "      <td>4</td>\n",
       "      <td>5</td>\n",
       "      <td>6</td>\n",
       "    </tr>\n",
       "    <tr>\n",
       "      <th>4</th>\n",
       "      <td>7</td>\n",
       "      <td>8</td>\n",
       "      <td>9</td>\n",
       "    </tr>\n",
       "  </tbody>\n",
       "</table>\n",
       "</div>"
      ],
      "text/plain": [
       "   48  49  50\n",
       "2   1   2   3\n",
       "A   4   5   6\n",
       "4   7   8   9"
      ]
     },
     "execution_count": 23,
     "metadata": {},
     "output_type": "execute_result"
    }
   ],
   "source": [
    "df4 = pd.DataFrame(data=np.array([[1, 2, 3], [4, 5, 6], [7, 8, 9]]), index= [2, 'A', 4], columns=[48, 49, 50])\n",
    "df4"
   ]
  },
  {
   "cell_type": "code",
   "execution_count": 24,
   "id": "ded02e25-02aa-466c-aff0-b2ba7cdf454b",
   "metadata": {},
   "outputs": [
    {
     "data": {
      "text/plain": [
       "48    1\n",
       "49    2\n",
       "50    3\n",
       "Name: 2, dtype: int32"
      ]
     },
     "execution_count": 24,
     "metadata": {},
     "output_type": "execute_result"
    }
   ],
   "source": [
    "df4.loc[2]"
   ]
  },
  {
   "cell_type": "code",
   "execution_count": 25,
   "id": "26bf8048-ed10-427a-8fd8-c016f0ff3969",
   "metadata": {},
   "outputs": [
    {
     "data": {
      "text/plain": [
       "48    7\n",
       "49    8\n",
       "50    9\n",
       "Name: 4, dtype: int32"
      ]
     },
     "execution_count": 25,
     "metadata": {},
     "output_type": "execute_result"
    }
   ],
   "source": [
    "df4.iloc[2]"
   ]
  },
  {
   "cell_type": "markdown",
   "id": "a3c05a6b-5df6-4c03-9650-c532ea010df2",
   "metadata": {},
   "source": [
    "# Menambah Kolom"
   ]
  },
  {
   "cell_type": "code",
   "execution_count": 26,
   "id": "85a026dc-8bed-453c-bbf1-bfdad348aab9",
   "metadata": {},
   "outputs": [
    {
     "data": {
      "text/html": [
       "<div>\n",
       "<style scoped>\n",
       "    .dataframe tbody tr th:only-of-type {\n",
       "        vertical-align: middle;\n",
       "    }\n",
       "\n",
       "    .dataframe tbody tr th {\n",
       "        vertical-align: top;\n",
       "    }\n",
       "\n",
       "    .dataframe thead th {\n",
       "        text-align: right;\n",
       "    }\n",
       "</style>\n",
       "<table border=\"1\" class=\"dataframe\">\n",
       "  <thead>\n",
       "    <tr style=\"text-align: right;\">\n",
       "      <th></th>\n",
       "      <th>Nama</th>\n",
       "      <th>Usia</th>\n",
       "      <th>Index</th>\n",
       "    </tr>\n",
       "  </thead>\n",
       "  <tbody>\n",
       "    <tr>\n",
       "      <th>0</th>\n",
       "      <td>Purwanto</td>\n",
       "      <td>32</td>\n",
       "      <td>0</td>\n",
       "    </tr>\n",
       "    <tr>\n",
       "      <th>1</th>\n",
       "      <td>Purnomo</td>\n",
       "      <td>43</td>\n",
       "      <td>1</td>\n",
       "    </tr>\n",
       "    <tr>\n",
       "      <th>2</th>\n",
       "      <td>Purwo</td>\n",
       "      <td>55</td>\n",
       "      <td>2</td>\n",
       "    </tr>\n",
       "  </tbody>\n",
       "</table>\n",
       "</div>"
      ],
      "text/plain": [
       "       Nama  Usia  Index\n",
       "0  Purwanto    32      0\n",
       "1   Purnomo    43      1\n",
       "2     Purwo    55      2"
      ]
     },
     "execution_count": 26,
     "metadata": {},
     "output_type": "execute_result"
    }
   ],
   "source": [
    "#Menambahkan index di kolom baru\n",
    "df5 = pd.DataFrame([['Purwanto',32],['Purnomo',43],['Purwo',55]],columns=['Nama','Usia'])\n",
    "df5[\"Index\"]=df5.index\n",
    "df5"
   ]
  },
  {
   "cell_type": "code",
   "execution_count": 27,
   "id": "c8d2c381-e12a-4f12-91d1-562eaa0fb7b1",
   "metadata": {},
   "outputs": [
    {
     "data": {
      "text/html": [
       "<div>\n",
       "<style scoped>\n",
       "    .dataframe tbody tr th:only-of-type {\n",
       "        vertical-align: middle;\n",
       "    }\n",
       "\n",
       "    .dataframe tbody tr th {\n",
       "        vertical-align: top;\n",
       "    }\n",
       "\n",
       "    .dataframe thead th {\n",
       "        text-align: right;\n",
       "    }\n",
       "</style>\n",
       "<table border=\"1\" class=\"dataframe\">\n",
       "  <thead>\n",
       "    <tr style=\"text-align: right;\">\n",
       "      <th></th>\n",
       "      <th>Nama</th>\n",
       "      <th>Usia</th>\n",
       "      <th>Index</th>\n",
       "      <th>Gender</th>\n",
       "    </tr>\n",
       "  </thead>\n",
       "  <tbody>\n",
       "    <tr>\n",
       "      <th>0</th>\n",
       "      <td>Purwanto</td>\n",
       "      <td>32</td>\n",
       "      <td>0</td>\n",
       "      <td>L</td>\n",
       "    </tr>\n",
       "    <tr>\n",
       "      <th>1</th>\n",
       "      <td>Purnomo</td>\n",
       "      <td>43</td>\n",
       "      <td>1</td>\n",
       "      <td>L</td>\n",
       "    </tr>\n",
       "    <tr>\n",
       "      <th>2</th>\n",
       "      <td>Purwo</td>\n",
       "      <td>55</td>\n",
       "      <td>2</td>\n",
       "      <td>L</td>\n",
       "    </tr>\n",
       "  </tbody>\n",
       "</table>\n",
       "</div>"
      ],
      "text/plain": [
       "       Nama  Usia  Index Gender\n",
       "0  Purwanto    32      0      L\n",
       "1   Purnomo    43      1      L\n",
       "2     Purwo    55      2      L"
      ]
     },
     "execution_count": 27,
     "metadata": {},
     "output_type": "execute_result"
    }
   ],
   "source": [
    "#Menambahkan kolom dengan isian baru\n",
    "df5.loc[:, \"Gender\"] = pd.Series(['L','L','L'])\n",
    "df5"
   ]
  },
  {
   "cell_type": "markdown",
   "id": "9a274a57-af54-4531-ad42-634295b8190d",
   "metadata": {},
   "source": [
    "# Melihat ukuran dataframe"
   ]
  },
  {
   "cell_type": "code",
   "execution_count": 28,
   "id": "a00992d1-cdce-4984-91a1-f6d74ce7a206",
   "metadata": {},
   "outputs": [
    {
     "data": {
      "text/plain": [
       "3"
      ]
     },
     "execution_count": 28,
     "metadata": {},
     "output_type": "execute_result"
    }
   ],
   "source": [
    "#ukuran baris paling panjang\n",
    "len(df2)"
   ]
  },
  {
   "cell_type": "code",
   "execution_count": 29,
   "id": "069d6175-1ecb-4efa-9278-4865a83721a8",
   "metadata": {},
   "outputs": [
    {
     "data": {
      "text/plain": [
       "3"
      ]
     },
     "execution_count": 29,
     "metadata": {},
     "output_type": "execute_result"
    }
   ],
   "source": [
    "#ukuran baris pada kolom tertentu\n",
    "len(df2[\"Nama\"])"
   ]
  },
  {
   "cell_type": "code",
   "execution_count": 30,
   "id": "9eb7286b-0cc6-41ab-82d2-dc2ade856f9c",
   "metadata": {},
   "outputs": [
    {
     "name": "stdout",
     "output_type": "stream",
     "text": [
      "(3, 2)\n"
     ]
    }
   ],
   "source": [
    "#ukuran baris, ukuran kolom dataframe\n",
    "print(df2.shape)"
   ]
  },
  {
   "cell_type": "markdown",
   "id": "dd58a688-4bc5-4bcc-b25a-ba183c13eb61",
   "metadata": {},
   "source": [
    "# Menghapus"
   ]
  },
  {
   "cell_type": "code",
   "execution_count": 31,
   "id": "e23e4c3b-c4c3-4537-ae9a-4560a57d3d39",
   "metadata": {},
   "outputs": [
    {
     "data": {
      "text/html": [
       "<div>\n",
       "<style scoped>\n",
       "    .dataframe tbody tr th:only-of-type {\n",
       "        vertical-align: middle;\n",
       "    }\n",
       "\n",
       "    .dataframe tbody tr th {\n",
       "        vertical-align: top;\n",
       "    }\n",
       "\n",
       "    .dataframe thead th {\n",
       "        text-align: right;\n",
       "    }\n",
       "</style>\n",
       "<table border=\"1\" class=\"dataframe\">\n",
       "  <thead>\n",
       "    <tr style=\"text-align: right;\">\n",
       "      <th></th>\n",
       "      <th>Nama</th>\n",
       "      <th>Usia</th>\n",
       "    </tr>\n",
       "  </thead>\n",
       "  <tbody>\n",
       "    <tr>\n",
       "      <th>0</th>\n",
       "      <td>Purwanto</td>\n",
       "      <td>32</td>\n",
       "    </tr>\n",
       "    <tr>\n",
       "      <th>1</th>\n",
       "      <td>Purnomo</td>\n",
       "      <td>43</td>\n",
       "    </tr>\n",
       "    <tr>\n",
       "      <th>2</th>\n",
       "      <td>Purwo</td>\n",
       "      <td>55</td>\n",
       "    </tr>\n",
       "  </tbody>\n",
       "</table>\n",
       "</div>"
      ],
      "text/plain": [
       "       Nama  Usia\n",
       "0  Purwanto    32\n",
       "1   Purnomo    43\n",
       "2     Purwo    55"
      ]
     },
     "execution_count": 31,
     "metadata": {},
     "output_type": "execute_result"
    }
   ],
   "source": [
    "df6 = pd.DataFrame([['Purwanto',32],['Purnomo',43],['Purwo',55]],columns=['Nama','Usia'])\n",
    "df6"
   ]
  },
  {
   "cell_type": "code",
   "execution_count": 32,
   "id": "6bb09fd9-c4c5-4609-b1c0-c17563cf83aa",
   "metadata": {},
   "outputs": [
    {
     "data": {
      "text/html": [
       "<div>\n",
       "<style scoped>\n",
       "    .dataframe tbody tr th:only-of-type {\n",
       "        vertical-align: middle;\n",
       "    }\n",
       "\n",
       "    .dataframe tbody tr th {\n",
       "        vertical-align: top;\n",
       "    }\n",
       "\n",
       "    .dataframe thead th {\n",
       "        text-align: right;\n",
       "    }\n",
       "</style>\n",
       "<table border=\"1\" class=\"dataframe\">\n",
       "  <thead>\n",
       "    <tr style=\"text-align: right;\">\n",
       "      <th></th>\n",
       "      <th>Usia</th>\n",
       "    </tr>\n",
       "  </thead>\n",
       "  <tbody>\n",
       "    <tr>\n",
       "      <th>0</th>\n",
       "      <td>32</td>\n",
       "    </tr>\n",
       "    <tr>\n",
       "      <th>1</th>\n",
       "      <td>43</td>\n",
       "    </tr>\n",
       "    <tr>\n",
       "      <th>2</th>\n",
       "      <td>55</td>\n",
       "    </tr>\n",
       "  </tbody>\n",
       "</table>\n",
       "</div>"
      ],
      "text/plain": [
       "   Usia\n",
       "0    32\n",
       "1    43\n",
       "2    55"
      ]
     },
     "execution_count": 32,
     "metadata": {},
     "output_type": "execute_result"
    }
   ],
   "source": [
    "#menghapus kolom\n",
    "del df6['Nama']\n",
    "df6"
   ]
  },
  {
   "cell_type": "code",
   "execution_count": 33,
   "id": "dd27b0e6-604a-4372-a1ba-cac431ea5c91",
   "metadata": {},
   "outputs": [
    {
     "data": {
      "text/html": [
       "<div>\n",
       "<style scoped>\n",
       "    .dataframe tbody tr th:only-of-type {\n",
       "        vertical-align: middle;\n",
       "    }\n",
       "\n",
       "    .dataframe tbody tr th {\n",
       "        vertical-align: top;\n",
       "    }\n",
       "\n",
       "    .dataframe thead th {\n",
       "        text-align: right;\n",
       "    }\n",
       "</style>\n",
       "<table border=\"1\" class=\"dataframe\">\n",
       "  <thead>\n",
       "    <tr style=\"text-align: right;\">\n",
       "      <th></th>\n",
       "      <th>Usia</th>\n",
       "    </tr>\n",
       "  </thead>\n",
       "  <tbody>\n",
       "    <tr>\n",
       "      <th>2</th>\n",
       "      <td>55</td>\n",
       "    </tr>\n",
       "  </tbody>\n",
       "</table>\n",
       "</div>"
      ],
      "text/plain": [
       "   Usia\n",
       "2    55"
      ]
     },
     "execution_count": 33,
     "metadata": {},
     "output_type": "execute_result"
    }
   ],
   "source": [
    "#Menghapus n baris di awal\n",
    "df6=df6[2:]\n",
    "df6"
   ]
  },
  {
   "cell_type": "code",
   "execution_count": 34,
   "id": "e5d10aad-175c-4df2-af93-32f64c3c5e6a",
   "metadata": {},
   "outputs": [
    {
     "data": {
      "text/html": [
       "<div>\n",
       "<style scoped>\n",
       "    .dataframe tbody tr th:only-of-type {\n",
       "        vertical-align: middle;\n",
       "    }\n",
       "\n",
       "    .dataframe tbody tr th {\n",
       "        vertical-align: top;\n",
       "    }\n",
       "\n",
       "    .dataframe thead th {\n",
       "        text-align: right;\n",
       "    }\n",
       "</style>\n",
       "<table border=\"1\" class=\"dataframe\">\n",
       "  <thead>\n",
       "    <tr style=\"text-align: right;\">\n",
       "      <th></th>\n",
       "      <th>Nama</th>\n",
       "      <th>Usia</th>\n",
       "    </tr>\n",
       "  </thead>\n",
       "  <tbody>\n",
       "    <tr>\n",
       "      <th>0</th>\n",
       "      <td>Purwanto</td>\n",
       "      <td>32</td>\n",
       "    </tr>\n",
       "    <tr>\n",
       "      <th>1</th>\n",
       "      <td>Purnomo</td>\n",
       "      <td>43</td>\n",
       "    </tr>\n",
       "    <tr>\n",
       "      <th>2</th>\n",
       "      <td>Purwo</td>\n",
       "      <td>55</td>\n",
       "    </tr>\n",
       "  </tbody>\n",
       "</table>\n",
       "</div>"
      ],
      "text/plain": [
       "       Nama  Usia\n",
       "0  Purwanto    32\n",
       "1   Purnomo    43\n",
       "2     Purwo    55"
      ]
     },
     "execution_count": 34,
     "metadata": {},
     "output_type": "execute_result"
    }
   ],
   "source": [
    "df6 = pd.DataFrame([['Purwanto',32],['Purnomo',43],['Purwo',55]],columns=['Nama','Usia'])\n",
    "df6"
   ]
  },
  {
   "cell_type": "code",
   "execution_count": 35,
   "id": "70d29653-af09-48f3-a2ca-81f4dfd638b6",
   "metadata": {},
   "outputs": [
    {
     "data": {
      "text/html": [
       "<div>\n",
       "<style scoped>\n",
       "    .dataframe tbody tr th:only-of-type {\n",
       "        vertical-align: middle;\n",
       "    }\n",
       "\n",
       "    .dataframe tbody tr th {\n",
       "        vertical-align: top;\n",
       "    }\n",
       "\n",
       "    .dataframe thead th {\n",
       "        text-align: right;\n",
       "    }\n",
       "</style>\n",
       "<table border=\"1\" class=\"dataframe\">\n",
       "  <thead>\n",
       "    <tr style=\"text-align: right;\">\n",
       "      <th></th>\n",
       "      <th>Nama</th>\n",
       "      <th>Usia</th>\n",
       "    </tr>\n",
       "  </thead>\n",
       "  <tbody>\n",
       "    <tr>\n",
       "      <th>1</th>\n",
       "      <td>Purnomo</td>\n",
       "      <td>43</td>\n",
       "    </tr>\n",
       "  </tbody>\n",
       "</table>\n",
       "</div>"
      ],
      "text/plain": [
       "      Nama  Usia\n",
       "1  Purnomo    43"
      ]
     },
     "execution_count": 35,
     "metadata": {},
     "output_type": "execute_result"
    }
   ],
   "source": [
    "#Menghapus baris tertentu\n",
    "df6=df6.drop(df6.index[[0,2]])\n",
    "df6"
   ]
  },
  {
   "cell_type": "markdown",
   "id": "bede4a0e-220c-44f4-939c-56b83db22518",
   "metadata": {},
   "source": [
    "# Ekspor Dataframe"
   ]
  },
  {
   "cell_type": "code",
   "execution_count": 36,
   "id": "9342e8b4-dd87-45ef-9d2d-86a16c8777d3",
   "metadata": {},
   "outputs": [
    {
     "name": "stdout",
     "output_type": "stream",
     "text": [
      "[[ 1 32]\n",
      " [ 2 43]\n",
      " [ 4 55]]\n"
     ]
    }
   ],
   "source": [
    "#import pandas dan numpy\n",
    "import pandas as pd\n",
    "import numpy as np\n",
    "#Misal kita punya suatu dataframe\n",
    "data = [[1,32],[2,43],[4,55]]\n",
    "df = pd.DataFrame(data,columns=['Nama','Usia'])\n",
    "#Convert ke numpy array\n",
    "databaru = df.to_numpy()\n",
    "print(databaru)\n",
    "#Convert ke txt\n",
    "df.to_csv(\"dataexport.txt\")\n",
    "#Convert ke csv\n",
    "df.to_csv(\"dataexport.csv\")\n",
    "#Convert ke xlsx\n",
    "writer = pd.ExcelWriter('dataexport.xlsx')\n",
    "df.to_excel(writer, 'DataFrame')\n",
    "writer.save()"
   ]
  },
  {
   "cell_type": "code",
   "execution_count": null,
   "id": "010944db-c825-494a-b611-41da85e5f1fc",
   "metadata": {},
   "outputs": [],
   "source": []
  }
 ],
 "metadata": {
  "kernelspec": {
   "display_name": "Python 3 (ipykernel)",
   "language": "python",
   "name": "python3"
  },
  "language_info": {
   "codemirror_mode": {
    "name": "ipython",
    "version": 3
   },
   "file_extension": ".py",
   "mimetype": "text/x-python",
   "name": "python",
   "nbconvert_exporter": "python",
   "pygments_lexer": "ipython3",
   "version": "3.10.2"
  }
 },
 "nbformat": 4,
 "nbformat_minor": 5
}
