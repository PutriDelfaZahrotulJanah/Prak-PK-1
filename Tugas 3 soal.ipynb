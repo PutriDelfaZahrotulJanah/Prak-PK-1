{
 "cells": [
  {
   "cell_type": "markdown",
   "id": "2b726777-9ed3-44dc-a993-0573f9bff1d8",
   "metadata": {},
   "source": [
    "# TUGAS"
   ]
  },
  {
   "cell_type": "markdown",
   "id": "d920481a-a368-491c-a643-4353f5e1b35e",
   "metadata": {},
   "source": [
    "# 1. Buatlah program untuk menginputkan dua buah bilangan bulat, kemudian mencetak salah satu bilangan yang nilainya terbesar!"
   ]
  },
  {
   "cell_type": "code",
   "execution_count": 6,
   "id": "54e67401-c9bf-47ee-88ea-1d736da118d3",
   "metadata": {},
   "outputs": [
    {
     "name": "stdin",
     "output_type": "stream",
     "text": [
      "angka pertama: 8\n",
      "angka kedua: 0\n"
     ]
    },
    {
     "name": "stdout",
     "output_type": "stream",
     "text": [
      "terbesar:  8\n"
     ]
    }
   ],
   "source": [
    "a = int(input(\"angka pertama:\"))\n",
    "b = int(input(\"angka kedua:\"))\n",
    "\n",
    "maks = 0\n",
    "\n",
    "if a>b:\n",
    "    maks = a\n",
    "else:\n",
    "    maks = b\n",
    "\n",
    "print(\"terbesar: \",maks)"
   ]
  },
  {
   "cell_type": "markdown",
   "id": "a05ca226-c436-41c5-a36c-79be58f28d7e",
   "metadata": {},
   "source": [
    "# 2. Pada akhir semester seorang dosen menghitung nilai akhir dari mahasiswa yang terdiri dari nilai uas, uts, kuis, dan tugas. Nilai akhir didapatkan dari 40% nilai uas, 30% nilai uts, 10% nilai kuis, dan 20% nilai tugas. Jika nilai akhir dari mahasiswa di bawah 65 maka mahasiswa tersebut akan mendapatkan remidi. Buatlah program untuk membantu mengetahui mahasiswa yang mendapatkan remidi berdasarkan nilai akhir yang didapatkannya!"
   ]
  },
  {
   "cell_type": "code",
   "execution_count": 7,
   "id": "bda8bfa3-74b5-4e05-b8a1-b94e630e1487",
   "metadata": {},
   "outputs": [
    {
     "name": "stdin",
     "output_type": "stream",
     "text": [
      "angka nilai UAS: 90\n",
      "angka nilai UTS: 90\n",
      "angka nilai KUIS: 90\n",
      "angka nilai TUGAS: 90\n"
     ]
    },
    {
     "name": "stdout",
     "output_type": "stream",
     "text": [
      "36.0\n",
      "27.0\n",
      "9.0\n",
      "18.0\n",
      "Nilai Akhir: 90.0\n",
      "Anda Lulus\n"
     ]
    }
   ],
   "source": [
    "a = int(input(\"angka nilai UAS:\"))\n",
    "b = int(input(\"angka nilai UTS:\"))\n",
    "c = int(input(\"angka nilai KUIS:\"))\n",
    "d = int(input(\"angka nilai TUGAS:\"))\n",
    "\n",
    "UAS = a*0.40\n",
    "print(UAS)\n",
    "UTS = b*0.30\n",
    "print(UTS)\n",
    "KUIS = c*0.10\n",
    "print(KUIS)\n",
    "TUGAS = d*0.20\n",
    "print(TUGAS)\n",
    "\n",
    "TOTAL = UAS+UTS+KUIS+TUGAS\n",
    "print(\"Nilai Akhir:\",TOTAL)\n",
    "\n",
    "if TOTAL >= 65:\n",
    "    print(\"Anda Lulus\")\n",
    "else:\n",
    "    print(\"Remidi\")"
   ]
  },
  {
   "cell_type": "markdown",
   "id": "172e7486-6804-406d-abf5-b05eae5e8b37",
   "metadata": {},
   "source": [
    "# 3. Buatlah program kalkulator sederhana menggunakan Python. User akan memasukkan dua buah bilangan riil dan satu buah operator aritmatika (+, -, *, atau /), kemudian program akan mengoperasikan dua bilangan tersebut dengan operator yang sesuai"
   ]
  },
  {
   "cell_type": "code",
   "execution_count": 26,
   "id": "0f3790a8-f6d3-44de-a8ac-e7277048ea94",
   "metadata": {},
   "outputs": [
    {
     "name": "stdin",
     "output_type": "stream",
     "text": [
      "angka pertama: 8\n",
      "operator(+,-,x,/): x\n",
      "angka kedua: 2\n"
     ]
    },
    {
     "name": "stdout",
     "output_type": "stream",
     "text": [
      "hasilnya adalah {16.0}\n"
     ]
    }
   ],
   "source": [
    "angka_pertama = float(input(\"angka pertama:\"))\n",
    "operator = (input(\"operator(+,-,x,/):\"))\n",
    "angka_kedua = float(input(\"angka kedua:\"))\n",
    "if operator == \"+\":\n",
    "    hasil = angka_pertama + angka_kedua\n",
    "    print(\"hasilnya adalah\",{hasil})\n",
    "elif operator == \"-\":\n",
    "    hasil = angka_pertama - angka_kedua\n",
    "    print(\"hasilnya adalah\",{hasil})\n",
    "elif operator == \"x\":\n",
    "    hasil = angka_pertama * angka_kedua\n",
    "    print(\"hasilnya adalah\",{hasil})\n",
    "elif operator == \"/\":\n",
    "    hasil = angka_pertama / angka_kedua\n",
    "    print(\"hasilnya adalah\",{hasil})"
   ]
  },
  {
   "cell_type": "code",
   "execution_count": null,
   "id": "b95244cd-edd2-45b6-84eb-aa01348442dd",
   "metadata": {},
   "outputs": [],
   "source": []
  }
 ],
 "metadata": {
  "kernelspec": {
   "display_name": "Python 3 (ipykernel)",
   "language": "python",
   "name": "python3"
  },
  "language_info": {
   "codemirror_mode": {
    "name": "ipython",
    "version": 3
   },
   "file_extension": ".py",
   "mimetype": "text/x-python",
   "name": "python",
   "nbconvert_exporter": "python",
   "pygments_lexer": "ipython3",
   "version": "3.10.2"
  }
 },
 "nbformat": 4,
 "nbformat_minor": 5
}
