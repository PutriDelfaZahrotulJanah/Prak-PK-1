{
 "cells": [
  {
   "cell_type": "markdown",
   "id": "40fad6ed-beaa-4e29-b5fe-52d8cfbe7fdb",
   "metadata": {},
   "source": [
    "# w3schools (python read files)"
   ]
  },
  {
   "cell_type": "code",
   "execution_count": 15,
   "id": "35c5bbe0-1e0c-4c41-9586-bc142baa362e",
   "metadata": {},
   "outputs": [
    {
     "name": "stdout",
     "output_type": "stream",
     "text": [
      "Halo, sya sedang belajar python\n",
      "di laboratorium praktikum \n"
     ]
    }
   ],
   "source": [
    "f = open(\"24 mar.txt\",\"r\")\n",
    "print(f.read())"
   ]
  },
  {
   "cell_type": "markdown",
   "id": "74b29753-0caa-4177-ad9b-1a7d88583bc6",
   "metadata": {},
   "source": [
    "# modul hal 43"
   ]
  },
  {
   "cell_type": "code",
   "execution_count": 19,
   "id": "79b63dae-33c6-47b4-82d0-0bb04e340d30",
   "metadata": {},
   "outputs": [
    {
     "data": {
      "text/plain": [
       "array([[ 0,  1,  2,  3,  4],\n",
       "       [ 5,  6,  7,  8,  9],\n",
       "       [10, 11, 12, 13, 14]])"
      ]
     },
     "execution_count": 19,
     "metadata": {},
     "output_type": "execute_result"
    }
   ],
   "source": [
    "import numpy as np\n",
    "a = np. arange (15) . reshape (3, 5)\n",
    "a"
   ]
  },
  {
   "cell_type": "code",
   "execution_count": 20,
   "id": "752f8843-bbd4-4c87-9eb2-3d722197e879",
   "metadata": {},
   "outputs": [
    {
     "data": {
      "text/plain": [
       "(3, 5)"
      ]
     },
     "execution_count": 20,
     "metadata": {},
     "output_type": "execute_result"
    }
   ],
   "source": [
    "a. shape"
   ]
  },
  {
   "cell_type": "code",
   "execution_count": 21,
   "id": "b94f8576-ceef-4343-93d4-1a498111d212",
   "metadata": {},
   "outputs": [
    {
     "data": {
      "text/plain": [
       "2"
      ]
     },
     "execution_count": 21,
     "metadata": {},
     "output_type": "execute_result"
    }
   ],
   "source": [
    "a. ndim"
   ]
  },
  {
   "cell_type": "code",
   "execution_count": 22,
   "id": "5a4a3f17-fec7-4d28-a4a4-c0417ef8ae7a",
   "metadata": {},
   "outputs": [
    {
     "data": {
      "text/plain": [
       "'int32'"
      ]
     },
     "execution_count": 22,
     "metadata": {},
     "output_type": "execute_result"
    }
   ],
   "source": [
    "a. dtype . name"
   ]
  },
  {
   "cell_type": "code",
   "execution_count": 23,
   "id": "47733737-bd02-4a53-84db-57c86d328ef6",
   "metadata": {},
   "outputs": [
    {
     "data": {
      "text/plain": [
       "4"
      ]
     },
     "execution_count": 23,
     "metadata": {},
     "output_type": "execute_result"
    }
   ],
   "source": [
    "a. itemsize"
   ]
  },
  {
   "cell_type": "code",
   "execution_count": 24,
   "id": "aedf6aef-6f86-49b7-bd13-8559606c943d",
   "metadata": {},
   "outputs": [
    {
     "data": {
      "text/plain": [
       "15"
      ]
     },
     "execution_count": 24,
     "metadata": {},
     "output_type": "execute_result"
    }
   ],
   "source": [
    "a. size"
   ]
  },
  {
   "cell_type": "code",
   "execution_count": 25,
   "id": "527122e8-8d5d-42d5-a82c-b9158407beb2",
   "metadata": {},
   "outputs": [
    {
     "data": {
      "text/plain": [
       "numpy.ndarray"
      ]
     },
     "execution_count": 25,
     "metadata": {},
     "output_type": "execute_result"
    }
   ],
   "source": [
    "type (a)"
   ]
  },
  {
   "cell_type": "code",
   "execution_count": 26,
   "id": "d93c7df3-55a1-4b0d-9e06-5bc91a21c91b",
   "metadata": {},
   "outputs": [
    {
     "data": {
      "text/plain": [
       "array([6, 7, 8])"
      ]
     },
     "execution_count": 26,
     "metadata": {},
     "output_type": "execute_result"
    }
   ],
   "source": [
    "b = np. array ([6 , 7, 8])\n",
    "b"
   ]
  },
  {
   "cell_type": "code",
   "execution_count": 27,
   "id": "0c5bd335-86ad-41d3-a16e-7a9262d848fb",
   "metadata": {},
   "outputs": [
    {
     "data": {
      "text/plain": [
       "numpy.ndarray"
      ]
     },
     "execution_count": 27,
     "metadata": {},
     "output_type": "execute_result"
    }
   ],
   "source": [
    "type (b)"
   ]
  },
  {
   "cell_type": "markdown",
   "id": "ac34e5fb-4e89-45d8-b53a-1a84996e1ad5",
   "metadata": {},
   "source": [
    "# 5.2 membuat array"
   ]
  },
  {
   "cell_type": "code",
   "execution_count": 10,
   "id": "6ccf8f3c-da45-455b-a631-235271a03a7a",
   "metadata": {},
   "outputs": [
    {
     "data": {
      "text/plain": [
       "array([2, 3, 4])"
      ]
     },
     "execution_count": 10,
     "metadata": {},
     "output_type": "execute_result"
    }
   ],
   "source": [
    "import numpy as np\n",
    "a = np. array ([2 ,3 ,4])\n",
    "a"
   ]
  },
  {
   "cell_type": "code",
   "execution_count": 11,
   "id": "39592de9-ff8c-48d2-98a5-04691113914a",
   "metadata": {},
   "outputs": [
    {
     "data": {
      "text/plain": [
       "dtype('int32')"
      ]
     },
     "execution_count": 11,
     "metadata": {},
     "output_type": "execute_result"
    }
   ],
   "source": [
    "a. dtype"
   ]
  },
  {
   "cell_type": "code",
   "execution_count": 12,
   "id": "685199c0-e66e-4575-a0ec-49cdd53fcd30",
   "metadata": {},
   "outputs": [
    {
     "data": {
      "text/plain": [
       "array([1.2, 3.5, 5.1])"
      ]
     },
     "execution_count": 12,
     "metadata": {},
     "output_type": "execute_result"
    }
   ],
   "source": [
    "b = np. array ([1.2 , 3.5 , 5.1])\n",
    "b"
   ]
  },
  {
   "cell_type": "code",
   "execution_count": 13,
   "id": "c12d706f-99f6-45f8-a365-6fa050f75def",
   "metadata": {},
   "outputs": [
    {
     "data": {
      "text/plain": [
       "dtype('float64')"
      ]
     },
     "execution_count": 13,
     "metadata": {},
     "output_type": "execute_result"
    }
   ],
   "source": [
    "b.dtype "
   ]
  },
  {
   "cell_type": "code",
   "execution_count": 14,
   "id": "490e083c-47e9-4f83-925d-7a90d6228869",
   "metadata": {},
   "outputs": [
    {
     "data": {
      "text/plain": [
       "array([[0., 0., 0., 0.],\n",
       "       [0., 0., 0., 0.],\n",
       "       [0., 0., 0., 0.]])"
      ]
     },
     "execution_count": 14,
     "metadata": {},
     "output_type": "execute_result"
    }
   ],
   "source": [
    "np.zeros ( (3 ,4) )\n"
   ]
  },
  {
   "cell_type": "code",
   "execution_count": 15,
   "id": "4c7364ba-2734-4bb6-97f8-34585b58a2f0",
   "metadata": {},
   "outputs": [
    {
     "data": {
      "text/plain": [
       "array([[[1, 1, 1, 1],\n",
       "        [1, 1, 1, 1],\n",
       "        [1, 1, 1, 1]],\n",
       "\n",
       "       [[1, 1, 1, 1],\n",
       "        [1, 1, 1, 1],\n",
       "        [1, 1, 1, 1]]], dtype=int16)"
      ]
     },
     "execution_count": 15,
     "metadata": {},
     "output_type": "execute_result"
    }
   ],
   "source": [
    "np. ones ( (2 ,3 ,4) , dtype =np. int16 )"
   ]
  },
  {
   "cell_type": "code",
   "execution_count": 16,
   "id": "f75ff5eb-2cd8-4b48-8a35-a8abd8ac4d38",
   "metadata": {},
   "outputs": [
    {
     "data": {
      "text/plain": [
       "array([[0., 0., 0.],\n",
       "       [0., 0., 0.]])"
      ]
     },
     "execution_count": 16,
     "metadata": {},
     "output_type": "execute_result"
    }
   ],
   "source": [
    "np. empty ( (2 ,3) )"
   ]
  },
  {
   "cell_type": "code",
   "execution_count": 17,
   "id": "2cdbb774-ff9d-46ec-9916-e0b1c30f7549",
   "metadata": {},
   "outputs": [
    {
     "data": {
      "text/plain": [
       "array([10, 15, 20, 25])"
      ]
     },
     "execution_count": 17,
     "metadata": {},
     "output_type": "execute_result"
    }
   ],
   "source": [
    "np. arange (10 ,30 ,5 )"
   ]
  },
  {
   "cell_type": "code",
   "execution_count": 18,
   "id": "d8b9a568-effc-4540-a71b-3ede1c0866ea",
   "metadata": {},
   "outputs": [
    {
     "data": {
      "text/plain": [
       "array([0. , 0.3, 0.6, 0.9, 1.2, 1.5, 1.8])"
      ]
     },
     "execution_count": 18,
     "metadata": {},
     "output_type": "execute_result"
    }
   ],
   "source": [
    "np. arange (0 ,2 ,0.3 )"
   ]
  },
  {
   "cell_type": "code",
   "execution_count": 19,
   "id": "69ca00fe-b305-49fc-8599-a6227272d571",
   "metadata": {},
   "outputs": [
    {
     "data": {
      "text/plain": [
       "array([0.  , 0.25, 0.5 , 0.75, 1.  , 1.25, 1.5 , 1.75, 2.  ])"
      ]
     },
     "execution_count": 19,
     "metadata": {},
     "output_type": "execute_result"
    }
   ],
   "source": [
    "from numpy import pi\n",
    "np. linspace (0 ,2 ,9)"
   ]
  },
  {
   "cell_type": "code",
   "execution_count": 21,
   "id": "a6781d6e-325b-4dc1-910b-a6fbdf57425f",
   "metadata": {},
   "outputs": [],
   "source": [
    "x = np. linspace (0 ,2*pi ,100 )"
   ]
  },
  {
   "cell_type": "code",
   "execution_count": 22,
   "id": "6763302c-2f48-429e-a9be-217cf7a6c7e7",
   "metadata": {},
   "outputs": [],
   "source": [
    "f = np.sin (x)"
   ]
  },
  {
   "cell_type": "markdown",
   "id": "e1b9ff3d-8199-411e-b6b6-c63870b2ac2a",
   "metadata": {},
   "source": [
    "# 5.3 Menampilkan Array"
   ]
  },
  {
   "cell_type": "code",
   "execution_count": 23,
   "id": "12810206-3bb7-4063-950b-daed1a372b17",
   "metadata": {},
   "outputs": [
    {
     "name": "stdout",
     "output_type": "stream",
     "text": [
      "[0 1 2 3 4 5]\n"
     ]
    }
   ],
   "source": [
    "a = np.arange (6)\n",
    "print (a)"
   ]
  },
  {
   "cell_type": "code",
   "execution_count": 24,
   "id": "06423e24-b86a-44c9-b2be-5b0eef504ef5",
   "metadata": {},
   "outputs": [
    {
     "name": "stdout",
     "output_type": "stream",
     "text": [
      "[[ 0  1  2]\n",
      " [ 3  4  5]\n",
      " [ 6  7  8]\n",
      " [ 9 10 11]]\n"
     ]
    }
   ],
   "source": [
    "b = np. arange (12).reshape (4,3)\n",
    "print (b)"
   ]
  },
  {
   "cell_type": "code",
   "execution_count": 25,
   "id": "2dc6f6db-3d6c-47c7-8d0d-f071ba486bcd",
   "metadata": {},
   "outputs": [
    {
     "name": "stdout",
     "output_type": "stream",
     "text": [
      "[[[ 0  1  2  3]\n",
      "  [ 4  5  6  7]\n",
      "  [ 8  9 10 11]]\n",
      "\n",
      " [[12 13 14 15]\n",
      "  [16 17 18 19]\n",
      "  [20 21 22 23]]]\n"
     ]
    }
   ],
   "source": [
    "c = np. arange (24).reshape (2 ,3 ,4) \n",
    "print (c)\n"
   ]
  },
  {
   "cell_type": "code",
   "execution_count": 26,
   "id": "b65cdd50-7bd6-4015-ac7b-15999cbfec1e",
   "metadata": {},
   "outputs": [
    {
     "name": "stdout",
     "output_type": "stream",
     "text": [
      "[   0    1    2 ... 9997 9998 9999]\n"
     ]
    }
   ],
   "source": [
    "print (np. arange (10000) )"
   ]
  },
  {
   "cell_type": "code",
   "execution_count": 27,
   "id": "c9a1a429-a112-412f-84d5-8733e07503fc",
   "metadata": {},
   "outputs": [
    {
     "name": "stdout",
     "output_type": "stream",
     "text": [
      "[[   0    1    2 ...   97   98   99]\n",
      " [ 100  101  102 ...  197  198  199]\n",
      " [ 200  201  202 ...  297  298  299]\n",
      " ...\n",
      " [9700 9701 9702 ... 9797 9798 9799]\n",
      " [9800 9801 9802 ... 9897 9898 9899]\n",
      " [9900 9901 9902 ... 9997 9998 9999]]\n"
     ]
    }
   ],
   "source": [
    "print (np. arange (10000) . reshape (100 ,100) )"
   ]
  },
  {
   "cell_type": "code",
   "execution_count": 28,
   "id": "e3be1041-5217-4831-adec-14d8c961aade",
   "metadata": {},
   "outputs": [
    {
     "name": "stdout",
     "output_type": "stream",
     "text": [
      "[   0    1    2 ... 9997 9998 9999]\n"
     ]
    }
   ],
   "source": [
    "print (np. arange (10000) )"
   ]
  },
  {
   "cell_type": "code",
   "execution_count": null,
   "id": "1af08837-8e9a-4ec9-a3d1-727332ba3456",
   "metadata": {},
   "outputs": [],
   "source": []
  }
 ],
 "metadata": {
  "kernelspec": {
   "display_name": "Python 3 (ipykernel)",
   "language": "python",
   "name": "python3"
  },
  "language_info": {
   "codemirror_mode": {
    "name": "ipython",
    "version": 3
   },
   "file_extension": ".py",
   "mimetype": "text/x-python",
   "name": "python",
   "nbconvert_exporter": "python",
   "pygments_lexer": "ipython3",
   "version": "3.10.2"
  }
 },
 "nbformat": 4,
 "nbformat_minor": 5
}
