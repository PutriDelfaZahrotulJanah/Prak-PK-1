{
 "cells": [
  {
   "cell_type": "markdown",
   "id": "e98f6209-7b0f-4415-8b7d-ea70a8b75774",
   "metadata": {},
   "source": [
    "# 1. Buatlah program yang meminta masukan user sebuah bilangan bulat N dimana (N<0). Program kemudian menampilkan penjumlahan N bilangan genap positif pertama (bilangan genap \u0015 0). Contoh: • Jika user memasukkan N = 3, maka outputnya: 0 + 2 + 4 = 6 • Jika user memasukkan N = 5, maka outputnya: 0 + 2 + 4 + 6 + 8 = 20"
   ]
  },
  {
   "cell_type": "code",
   "execution_count": 7,
   "id": "71bf271d-8b0b-4ead-8193-35f7b1854e22",
   "metadata": {},
   "outputs": [
    {
     "name": "stdin",
     "output_type": "stream",
     "text": [
      "Masukkan nilai n: 5\n"
     ]
    },
    {
     "name": "stdout",
     "output_type": "stream",
     "text": [
      "daftar bilangan genap positif yaitu:\n",
      "0\n",
      "2\n",
      "4\n",
      "6\n",
      "8\n",
      "Jumlah bilangan genap positif yaitu: 20\n"
     ]
    }
   ],
   "source": [
    "m = 0\n",
    "sum = 0\n",
    "i = 1 \n",
    "n=int(input(\"Masukkan nilai n:\"))\n",
    "print(\"daftar bilangan genap positif yaitu:\")\n",
    "while True:\n",
    "    sum += m\n",
    "    print(m)\n",
    "    m +=2\n",
    "    i = i+1\n",
    "    if i > n:\n",
    "        break\n",
    "print(\"Jumlah bilangan genap positif yaitu:\", sum)"
   ]
  },
  {
   "cell_type": "markdown",
   "id": "bd129b2e-2d57-4c08-beff-1b5ba9b3adea",
   "metadata": {},
   "source": [
    "# 2. Buatlah sebuah program yang meminta masukan user sebuah bilangan bulat N dimana (N > 0). Kemudian, program menampilkan penjumlahan N bilangan kuadrat pertama. Bilangan kuadrat adalah = 1, 4, 9, 16, 25, 36, ...., N2. Contoh: • Jika user memasukkan N = 2, maka outputnya: 1 + 4 = 5 • Jika user memasukkan N = 3, maka outputnya: 1 + 4 + 9 = 14"
   ]
  },
  {
   "cell_type": "code",
   "execution_count": 4,
   "id": "08261d49-69a9-46d2-940c-f337b11f5e11",
   "metadata": {},
   "outputs": [
    {
     "name": "stdin",
     "output_type": "stream",
     "text": [
      "masukkan angka:  3\n"
     ]
    },
    {
     "name": "stdout",
     "output_type": "stream",
     "text": [
      "deret bilangan kuadrat:\n",
      "1 4 9 sehingga hasil penjumlahan kuadrat:  14\n"
     ]
    }
   ],
   "source": [
    "i, N, jum =1, 0, 0\n",
    "\n",
    "N = int(input(\"masukkan angka: \"))\n",
    "print(\"deret bilangan kuadrat:\")\n",
    "while True:\n",
    "    jum += i*i\n",
    "    print(i*i, end=' ')\n",
    "    i += 1\n",
    "    if i> N:\n",
    "        break\n",
    "print(\"sehingga hasil penjumlahan kuadrat: \", jum)"
   ]
  },
  {
   "cell_type": "markdown",
   "id": "2ad226ea-69f3-4d4c-9b84-97fdd33e76bf",
   "metadata": {},
   "source": [
    "# 3. Buatlah sebuah program yang meminta masukan user sebuah bilangan bulat N dimana (N > 0). Program kemudian memeriksa setiap digit yang ada di angka tersebut, dan menampilkan berapa jumlah digit yang ganjil dari bilangan N tersebut. • Jika user memasukkan N = 2345, jumlah digit yang ganjil = 2 • Jika user memasukkan N = 993312, jumlah digit yang ganjil = 5"
   ]
  },
  {
   "cell_type": "code",
   "execution_count": 1,
   "id": "81be62e0-8920-4ff6-bc43-2e9ea0d7e6c3",
   "metadata": {},
   "outputs": [
    {
     "name": "stdin",
     "output_type": "stream",
     "text": [
      "Masukkan N :  2345\n"
     ]
    },
    {
     "name": "stdout",
     "output_type": "stream",
     "text": [
      "jumlah digit yang ganjil:  2\n"
     ]
    }
   ],
   "source": [
    "N = input(\"Masukkan N : \")\n",
    "ganjil=0\n",
    "g=''\n",
    "for i in N:\n",
    "    if i in'1 or 3 or 5 or 7 or 9':\n",
    "        ganjil += 1\n",
    "        g = g+i+''\n",
    "print(\"jumlah digit yang ganjil: \",ganjil)"
   ]
  },
  {
   "cell_type": "code",
   "execution_count": 6,
   "id": "ede8776c-1efa-4f21-a600-6142010677e2",
   "metadata": {},
   "outputs": [
    {
     "name": "stdin",
     "output_type": "stream",
     "text": [
      "Masukkan N :  993312\n"
     ]
    },
    {
     "name": "stdout",
     "output_type": "stream",
     "text": [
      "jumlah digit yang ganjil:  5\n"
     ]
    }
   ],
   "source": [
    "N = input(\"Masukkan N : \")\n",
    "ganjil=0\n",
    "g=''\n",
    "for i in N:\n",
    "    if i in'1 or 3 or 5 or 7 or 9':\n",
    "        ganjil += 1\n",
    "        g = g+i+''\n",
    "print(\"jumlah digit yang ganjil: \",ganjil)"
   ]
  },
  {
   "cell_type": "markdown",
   "id": "b8aeb211-50b6-4383-ae53-65d2946ad074",
   "metadata": {},
   "source": [
    "# 4.cari bagaimana cara menampilkan judul (title) dari grafik\n",
    "    Jawab: menggunakan perintah\n",
    "           plt.title(\"TITLE\")"
   ]
  },
  {
   "cell_type": "code",
   "execution_count": 7,
   "id": "6f665c18-75de-4676-8e44-d7a3f3d88691",
   "metadata": {},
   "outputs": [
    {
     "data": {
      "image/png": "[encoded data removed]",
      "text/plain": [
       "<Figure size 432x288 with 1 Axes>"
      ]
     },
     "metadata": {
      "needs_background": "light"
     },
     "output_type": "display_data"
    }
   ],
   "source": [
    "#Contoh\n",
    "import numpy as np\n",
    "import matplotlib.pyplot as plt\n",
    "\n",
    "x = np.array([20,30,40,50,60])\n",
    "y = np.array([30,40,50,60,70])\n",
    "\n",
    "plt.title(\"Berat Badan Penduduk Desa Campurdarat TAHUN 2021\")\n",
    "\n",
    "plt.plot(x,y)\n",
    "plt.show()"
   ]
  },
  {
   "cell_type": "markdown",
   "id": "5ed187f8-dfa7-47f1-b3ae-117e6b54c2cf",
   "metadata": {},
   "source": [
    "# 5.cari bagaimana cara memberikan label pada sumbu x dan sumbu y\n",
    "    Jawab: menggunakan perintah\n",
    "          plt.xlabel(\"LABEL\")\n",
    "          plt.ylabel(\"LABEL\")"
   ]
  },
  {
   "cell_type": "code",
   "execution_count": 8,
   "id": "24ac85df-2f1b-4dbd-8204-64fb3f493ff5",
   "metadata": {},
   "outputs": [
    {
     "data": {
      "image/png": "[encoded data removed]",
      "text/plain": [
       "<Figure size 432x288 with 1 Axes>"
      ]
     },
     "metadata": {
      "needs_background": "light"
     },
     "output_type": "display_data"
    }
   ],
   "source": [
    "#Contoh\n",
    "import numpy as np\n",
    "import matplotlib.pyplot as plt\n",
    "\n",
    "x = np.array([20,30,40,50,60])\n",
    "y = np.array([30,40,50,60,70])\n",
    "\n",
    "plt.title(\"Berat Badan Penduduk Desa Campurdarat TAHUN 2021\")\n",
    "plt.xlabel(\"Jumlah Penduduk\")\n",
    "plt.ylabel(\"Berat Badan (kg)\")\n",
    "\n",
    "plt.plot(x,y)\n",
    "plt.show()"
   ]
  },
  {
   "cell_type": "markdown",
   "id": "35797ca2-bfa3-421e-9c0b-47b042ae3042",
   "metadata": {},
   "source": [
    "# 6.cari bagaimana cara menambahkan teks dalam grafik\n",
    "    Jawab: menggunakan perintah \n",
    "           plt.text(\"TEXT\")"
   ]
  },
  {
   "cell_type": "code",
   "execution_count": 10,
   "id": "a98163cb-bc91-4a03-a9f8-1132e6e43f46",
   "metadata": {},
   "outputs": [
    {
     "data": {
      "image/png": "[encoded data removed]",
      "text/plain": [
       "<Figure size 432x288 with 1 Axes>"
      ]
     },
     "metadata": {
      "needs_background": "light"
     },
     "output_type": "display_data"
    }
   ],
   "source": [
    "#Contoh\n",
    "import numpy as np\n",
    "import matplotlib.pyplot as plt\n",
    "\n",
    "x = np.array([20,30,40,50,60])\n",
    "y = np.array([30,40,50,60,70])\n",
    "\n",
    "plt.title(\"Berat Badan Penduduk Desa Campurdarat TAHUN 2021\")\n",
    "plt.xlabel(\"Jumlah Penduduk\")\n",
    "plt.ylabel(\"Berat Badan (kg)\")\n",
    "plt.text(20,30,\"20\")\n",
    "plt.text(30,40,\"30\")\n",
    "plt.text(40,50,\"40\")\n",
    "plt.text(50,60,\"50\")\n",
    "plt.text(60,70,\"60\")\n",
    "\n",
    "plt.plot(x,y)\n",
    "plt.show()"
   ]
  },
  {
   "cell_type": "code",
   "execution_count": null,
   "id": "e2b1c02e-a4b5-4335-a6bb-0018d4df1ff2",
   "metadata": {},
   "outputs": [],
   "source": []
  }
 ],
 "metadata": {
  "kernelspec": {
   "display_name": "Python 3 (ipykernel)",
   "language": "python",
   "name": "python3"
  },
  "language_info": {
   "codemirror_mode": {
    "name": "ipython",
    "version": 3
   },
   "file_extension": ".py",
   "mimetype": "text/x-python",
   "name": "python",
   "nbconvert_exporter": "python",
   "pygments_lexer": "ipython3",
   "version": "3.10.2"
  }
 },
 "nbformat": 4,
 "nbformat_minor": 5
}
